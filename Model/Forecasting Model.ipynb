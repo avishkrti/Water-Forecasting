{
  "nbformat": 4,
  "nbformat_minor": 0,
  "metadata": {
    "kernelspec": {
      "display_name": "Python 3",
      "language": "python",
      "name": "python3"
    },
    "language_info": {
      "codemirror_mode": {
        "name": "ipython",
        "version": 3
      },
      "file_extension": ".py",
      "mimetype": "text/x-python",
      "name": "python",
      "nbconvert_exporter": "python",
      "pygments_lexer": "ipython3",
      "version": "3.8.5"
    },
    "colab": {
      "name": "FB_Prophet - Model.ipynb",
      "provenance": []
    }
  },
  "cells": [
    {
      "cell_type": "markdown",
      "metadata": {
        "id": "mXD025wZbWpZ"
      },
      "source": [
        "# FB Prophet Model"
      ]
    },
    {
      "cell_type": "markdown",
      "metadata": {
        "id": "k-sedFubbWpb"
      },
      "source": [
        "## Import Libraries"
      ]
    },
    {
      "cell_type": "code",
      "metadata": {
        "id": "aqIX_2IcbWpb"
      },
      "source": [
        "import pandas as pd\n",
        "from fbprophet import Prophet\n",
        "from sklearn.metrics import mean_absolute_error"
      ],
      "execution_count": null,
      "outputs": []
    },
    {
      "cell_type": "code",
      "metadata": {
        "id": "c3UYh8p-bWpc"
      },
      "source": [
        "from matplotlib import pyplot\n",
        "import seaborn as sns\n",
        "sns.set()\n",
        "from pylab import rcParams\n",
        "rcParams['figure.figsize'] = 10, 6"
      ],
      "execution_count": null,
      "outputs": []
    },
    {
      "cell_type": "code",
      "metadata": {
        "id": "s1L3V6K_bWpd"
      },
      "source": [
        "from datetime import date"
      ],
      "execution_count": null,
      "outputs": []
    },
    {
      "cell_type": "markdown",
      "metadata": {
        "id": "q9OowjWNbWpd"
      },
      "source": [
        "## Data Import and Processing"
      ]
    },
    {
      "cell_type": "code",
      "metadata": {
        "colab": {
          "base_uri": "https://localhost:8080/",
          "height": 431
        },
        "id": "NpAZzp2IbWpe",
        "outputId": "fd4c0081-8696-4ec0-ee71-782dabe3ff8d"
      },
      "source": [
        "import pandas as pd\n",
        "from datetime import datetime\n",
        "krs = pd.read_csv('KRS.csv', parse_dates=['FLOW_DATE'])\n",
        "krs.drop(krs[krs['FLOW_DATE'] < '2011-01-01'].index, inplace = True)\n",
        "krs = krs.set_index(['FLOW_DATE'])\n",
        "rain = pd.read_csv('rain_data.csv', parse_dates=['Date'])\n",
        "rain = rain.set_index(['Date'])\n",
        "rain = rain.resample('D').mean()\n",
        "krs = krs.drop(['SL_NO','RESERVOIR','YEAR','WEEK_NO','UNIQUE_KEY'],axis=1)\n",
        "krs['RES_LEVEL_FT'] = pd.to_numeric(krs['RES_LEVEL_FT'],errors = 'coerce')\n",
        "krs['INFLOW_CUSECS'] = pd.to_numeric(krs['INFLOW_CUSECS'],errors = 'coerce')\n",
        "krs['OUTFLOW_CUECS'] = pd.to_numeric(krs['OUTFLOW_CUECS'],errors = 'coerce')\n",
        "krs = krs.resample('D').mean()\n",
        "krs['Rain'] = rain['Mandya']\n",
        "#krs['Date'] = krs['FLOW_DATE']\n",
        "#krs['Date'] = pd.to_datetime(krs['Date'], format='%m')\n",
        "data = krs\n",
        "data.index.name = 'date'\n",
        "\n",
        "data"
      ],
      "execution_count": null,
      "outputs": [
        {
          "output_type": "execute_result",
          "data": {
            "text/html": [
              "<div>\n",
              "<style scoped>\n",
              "    .dataframe tbody tr th:only-of-type {\n",
              "        vertical-align: middle;\n",
              "    }\n",
              "\n",
              "    .dataframe tbody tr th {\n",
              "        vertical-align: top;\n",
              "    }\n",
              "\n",
              "    .dataframe thead th {\n",
              "        text-align: right;\n",
              "    }\n",
              "</style>\n",
              "<table border=\"1\" class=\"dataframe\">\n",
              "  <thead>\n",
              "    <tr style=\"text-align: right;\">\n",
              "      <th></th>\n",
              "      <th>PRESENT_STORAGE_TMC</th>\n",
              "      <th>RES_LEVEL_FT</th>\n",
              "      <th>INFLOW_CUSECS</th>\n",
              "      <th>OUTFLOW_CUECS</th>\n",
              "      <th>Rain</th>\n",
              "    </tr>\n",
              "    <tr>\n",
              "      <th>date</th>\n",
              "      <th></th>\n",
              "      <th></th>\n",
              "      <th></th>\n",
              "      <th></th>\n",
              "      <th></th>\n",
              "    </tr>\n",
              "  </thead>\n",
              "  <tbody>\n",
              "    <tr>\n",
              "      <th>2011-01-01</th>\n",
              "      <td>46.42</td>\n",
              "      <td>122.59</td>\n",
              "      <td>2029.0</td>\n",
              "      <td>2000.0</td>\n",
              "      <td>0.0</td>\n",
              "    </tr>\n",
              "    <tr>\n",
              "      <th>2011-01-02</th>\n",
              "      <td>46.54</td>\n",
              "      <td>122.68</td>\n",
              "      <td>3084.0</td>\n",
              "      <td>1490.0</td>\n",
              "      <td>0.0</td>\n",
              "    </tr>\n",
              "    <tr>\n",
              "      <th>2011-01-03</th>\n",
              "      <td>46.64</td>\n",
              "      <td>122.75</td>\n",
              "      <td>2776.0</td>\n",
              "      <td>1491.0</td>\n",
              "      <td>0.0</td>\n",
              "    </tr>\n",
              "    <tr>\n",
              "      <th>2011-01-04</th>\n",
              "      <td>46.69</td>\n",
              "      <td>122.79</td>\n",
              "      <td>2311.0</td>\n",
              "      <td>1491.0</td>\n",
              "      <td>0.0</td>\n",
              "    </tr>\n",
              "    <tr>\n",
              "      <th>2011-01-05</th>\n",
              "      <td>46.70</td>\n",
              "      <td>122.80</td>\n",
              "      <td>1847.0</td>\n",
              "      <td>1491.0</td>\n",
              "      <td>0.0</td>\n",
              "    </tr>\n",
              "    <tr>\n",
              "      <th>...</th>\n",
              "      <td>...</td>\n",
              "      <td>...</td>\n",
              "      <td>...</td>\n",
              "      <td>...</td>\n",
              "      <td>...</td>\n",
              "    </tr>\n",
              "    <tr>\n",
              "      <th>2020-12-12</th>\n",
              "      <td>43.04</td>\n",
              "      <td>120.00</td>\n",
              "      <td>3496.0</td>\n",
              "      <td>3308.0</td>\n",
              "      <td>0.0</td>\n",
              "    </tr>\n",
              "    <tr>\n",
              "      <th>2020-12-13</th>\n",
              "      <td>43.02</td>\n",
              "      <td>119.98</td>\n",
              "      <td>3197.0</td>\n",
              "      <td>3300.0</td>\n",
              "      <td>0.0</td>\n",
              "    </tr>\n",
              "    <tr>\n",
              "      <th>2020-12-14</th>\n",
              "      <td>42.98</td>\n",
              "      <td>119.95</td>\n",
              "      <td>3026.0</td>\n",
              "      <td>3273.0</td>\n",
              "      <td>0.0</td>\n",
              "    </tr>\n",
              "    <tr>\n",
              "      <th>2020-12-15</th>\n",
              "      <td>42.92</td>\n",
              "      <td>119.90</td>\n",
              "      <td>2530.0</td>\n",
              "      <td>3068.0</td>\n",
              "      <td>0.0</td>\n",
              "    </tr>\n",
              "    <tr>\n",
              "      <th>2020-12-16</th>\n",
              "      <td>42.83</td>\n",
              "      <td>119.83</td>\n",
              "      <td>2416.0</td>\n",
              "      <td>3243.0</td>\n",
              "      <td>0.0</td>\n",
              "    </tr>\n",
              "  </tbody>\n",
              "</table>\n",
              "<p>3638 rows × 5 columns</p>\n",
              "</div>"
            ],
            "text/plain": [
              "            PRESENT_STORAGE_TMC  RES_LEVEL_FT  ...  OUTFLOW_CUECS  Rain\n",
              "date                                           ...                     \n",
              "2011-01-01                46.42        122.59  ...         2000.0   0.0\n",
              "2011-01-02                46.54        122.68  ...         1490.0   0.0\n",
              "2011-01-03                46.64        122.75  ...         1491.0   0.0\n",
              "2011-01-04                46.69        122.79  ...         1491.0   0.0\n",
              "2011-01-05                46.70        122.80  ...         1491.0   0.0\n",
              "...                         ...           ...  ...            ...   ...\n",
              "2020-12-12                43.04        120.00  ...         3308.0   0.0\n",
              "2020-12-13                43.02        119.98  ...         3300.0   0.0\n",
              "2020-12-14                42.98        119.95  ...         3273.0   0.0\n",
              "2020-12-15                42.92        119.90  ...         3068.0   0.0\n",
              "2020-12-16                42.83        119.83  ...         3243.0   0.0\n",
              "\n",
              "[3638 rows x 5 columns]"
            ]
          },
          "metadata": {
            "tags": []
          },
          "execution_count": 4
        }
      ]
    },
    {
      "cell_type": "code",
      "metadata": {
        "id": "MXTpWHxylMor"
      },
      "source": [
        "data['ds'] = data.index"
      ],
      "execution_count": null,
      "outputs": []
    },
    {
      "cell_type": "code",
      "metadata": {
        "id": "i0ugu2ITbWpf",
        "colab": {
          "base_uri": "https://localhost:8080/",
          "height": 402
        },
        "outputId": "5c25bcba-002d-4a80-931d-23eb59170ac4"
      },
      "source": [
        "present = data['ds'].to_frame()\n",
        "present['y'] = data['PRESENT_STORAGE_TMC']\n",
        "present = present.reset_index()\n",
        "present = present.drop(['date'],axis = 1)\n",
        "present"
      ],
      "execution_count": null,
      "outputs": [
        {
          "output_type": "execute_result",
          "data": {
            "text/html": [
              "<div>\n",
              "<style scoped>\n",
              "    .dataframe tbody tr th:only-of-type {\n",
              "        vertical-align: middle;\n",
              "    }\n",
              "\n",
              "    .dataframe tbody tr th {\n",
              "        vertical-align: top;\n",
              "    }\n",
              "\n",
              "    .dataframe thead th {\n",
              "        text-align: right;\n",
              "    }\n",
              "</style>\n",
              "<table border=\"1\" class=\"dataframe\">\n",
              "  <thead>\n",
              "    <tr style=\"text-align: right;\">\n",
              "      <th></th>\n",
              "      <th>ds</th>\n",
              "      <th>y</th>\n",
              "    </tr>\n",
              "  </thead>\n",
              "  <tbody>\n",
              "    <tr>\n",
              "      <th>0</th>\n",
              "      <td>2011-01-01</td>\n",
              "      <td>46.42</td>\n",
              "    </tr>\n",
              "    <tr>\n",
              "      <th>1</th>\n",
              "      <td>2011-01-02</td>\n",
              "      <td>46.54</td>\n",
              "    </tr>\n",
              "    <tr>\n",
              "      <th>2</th>\n",
              "      <td>2011-01-03</td>\n",
              "      <td>46.64</td>\n",
              "    </tr>\n",
              "    <tr>\n",
              "      <th>3</th>\n",
              "      <td>2011-01-04</td>\n",
              "      <td>46.69</td>\n",
              "    </tr>\n",
              "    <tr>\n",
              "      <th>4</th>\n",
              "      <td>2011-01-05</td>\n",
              "      <td>46.70</td>\n",
              "    </tr>\n",
              "    <tr>\n",
              "      <th>...</th>\n",
              "      <td>...</td>\n",
              "      <td>...</td>\n",
              "    </tr>\n",
              "    <tr>\n",
              "      <th>3633</th>\n",
              "      <td>2020-12-12</td>\n",
              "      <td>43.04</td>\n",
              "    </tr>\n",
              "    <tr>\n",
              "      <th>3634</th>\n",
              "      <td>2020-12-13</td>\n",
              "      <td>43.02</td>\n",
              "    </tr>\n",
              "    <tr>\n",
              "      <th>3635</th>\n",
              "      <td>2020-12-14</td>\n",
              "      <td>42.98</td>\n",
              "    </tr>\n",
              "    <tr>\n",
              "      <th>3636</th>\n",
              "      <td>2020-12-15</td>\n",
              "      <td>42.92</td>\n",
              "    </tr>\n",
              "    <tr>\n",
              "      <th>3637</th>\n",
              "      <td>2020-12-16</td>\n",
              "      <td>42.83</td>\n",
              "    </tr>\n",
              "  </tbody>\n",
              "</table>\n",
              "<p>3638 rows × 2 columns</p>\n",
              "</div>"
            ],
            "text/plain": [
              "             ds      y\n",
              "0    2011-01-01  46.42\n",
              "1    2011-01-02  46.54\n",
              "2    2011-01-03  46.64\n",
              "3    2011-01-04  46.69\n",
              "4    2011-01-05  46.70\n",
              "...         ...    ...\n",
              "3633 2020-12-12  43.04\n",
              "3634 2020-12-13  43.02\n",
              "3635 2020-12-14  42.98\n",
              "3636 2020-12-15  42.92\n",
              "3637 2020-12-16  42.83\n",
              "\n",
              "[3638 rows x 2 columns]"
            ]
          },
          "metadata": {
            "tags": []
          },
          "execution_count": 6
        }
      ]
    },
    {
      "cell_type": "code",
      "metadata": {
        "colab": {
          "base_uri": "https://localhost:8080/",
          "height": 402
        },
        "id": "E5huKPc1d9en",
        "outputId": "c18217cf-70c0-4afb-92fa-9eef30cbed4b"
      },
      "source": [
        "inflow = data['ds'].to_frame()\n",
        "inflow['y'] = data['INFLOW_CUSECS']\n",
        "inflow = inflow.reset_index()\n",
        "inflow = inflow.drop(['date'],axis = 1)\n",
        "inflow"
      ],
      "execution_count": null,
      "outputs": [
        {
          "output_type": "execute_result",
          "data": {
            "text/html": [
              "<div>\n",
              "<style scoped>\n",
              "    .dataframe tbody tr th:only-of-type {\n",
              "        vertical-align: middle;\n",
              "    }\n",
              "\n",
              "    .dataframe tbody tr th {\n",
              "        vertical-align: top;\n",
              "    }\n",
              "\n",
              "    .dataframe thead th {\n",
              "        text-align: right;\n",
              "    }\n",
              "</style>\n",
              "<table border=\"1\" class=\"dataframe\">\n",
              "  <thead>\n",
              "    <tr style=\"text-align: right;\">\n",
              "      <th></th>\n",
              "      <th>ds</th>\n",
              "      <th>y</th>\n",
              "    </tr>\n",
              "  </thead>\n",
              "  <tbody>\n",
              "    <tr>\n",
              "      <th>0</th>\n",
              "      <td>2011-01-01</td>\n",
              "      <td>2029.0</td>\n",
              "    </tr>\n",
              "    <tr>\n",
              "      <th>1</th>\n",
              "      <td>2011-01-02</td>\n",
              "      <td>3084.0</td>\n",
              "    </tr>\n",
              "    <tr>\n",
              "      <th>2</th>\n",
              "      <td>2011-01-03</td>\n",
              "      <td>2776.0</td>\n",
              "    </tr>\n",
              "    <tr>\n",
              "      <th>3</th>\n",
              "      <td>2011-01-04</td>\n",
              "      <td>2311.0</td>\n",
              "    </tr>\n",
              "    <tr>\n",
              "      <th>4</th>\n",
              "      <td>2011-01-05</td>\n",
              "      <td>1847.0</td>\n",
              "    </tr>\n",
              "    <tr>\n",
              "      <th>...</th>\n",
              "      <td>...</td>\n",
              "      <td>...</td>\n",
              "    </tr>\n",
              "    <tr>\n",
              "      <th>3633</th>\n",
              "      <td>2020-12-12</td>\n",
              "      <td>3496.0</td>\n",
              "    </tr>\n",
              "    <tr>\n",
              "      <th>3634</th>\n",
              "      <td>2020-12-13</td>\n",
              "      <td>3197.0</td>\n",
              "    </tr>\n",
              "    <tr>\n",
              "      <th>3635</th>\n",
              "      <td>2020-12-14</td>\n",
              "      <td>3026.0</td>\n",
              "    </tr>\n",
              "    <tr>\n",
              "      <th>3636</th>\n",
              "      <td>2020-12-15</td>\n",
              "      <td>2530.0</td>\n",
              "    </tr>\n",
              "    <tr>\n",
              "      <th>3637</th>\n",
              "      <td>2020-12-16</td>\n",
              "      <td>2416.0</td>\n",
              "    </tr>\n",
              "  </tbody>\n",
              "</table>\n",
              "<p>3638 rows × 2 columns</p>\n",
              "</div>"
            ],
            "text/plain": [
              "             ds       y\n",
              "0    2011-01-01  2029.0\n",
              "1    2011-01-02  3084.0\n",
              "2    2011-01-03  2776.0\n",
              "3    2011-01-04  2311.0\n",
              "4    2011-01-05  1847.0\n",
              "...         ...     ...\n",
              "3633 2020-12-12  3496.0\n",
              "3634 2020-12-13  3197.0\n",
              "3635 2020-12-14  3026.0\n",
              "3636 2020-12-15  2530.0\n",
              "3637 2020-12-16  2416.0\n",
              "\n",
              "[3638 rows x 2 columns]"
            ]
          },
          "metadata": {
            "tags": []
          },
          "execution_count": 7
        }
      ]
    },
    {
      "cell_type": "code",
      "metadata": {
        "colab": {
          "base_uri": "https://localhost:8080/",
          "height": 402
        },
        "id": "SY-TLdyGd9hZ",
        "outputId": "10d8a6a2-a81c-4b9b-df0a-b256e5025a83"
      },
      "source": [
        "outflow = data['ds'].to_frame()\n",
        "outflow['y'] = data['OUTFLOW_CUECS']\n",
        "outflow = outflow.reset_index()\n",
        "outflow = outflow.drop(['date'],axis = 1)\n",
        "outflow"
      ],
      "execution_count": null,
      "outputs": [
        {
          "output_type": "execute_result",
          "data": {
            "text/html": [
              "<div>\n",
              "<style scoped>\n",
              "    .dataframe tbody tr th:only-of-type {\n",
              "        vertical-align: middle;\n",
              "    }\n",
              "\n",
              "    .dataframe tbody tr th {\n",
              "        vertical-align: top;\n",
              "    }\n",
              "\n",
              "    .dataframe thead th {\n",
              "        text-align: right;\n",
              "    }\n",
              "</style>\n",
              "<table border=\"1\" class=\"dataframe\">\n",
              "  <thead>\n",
              "    <tr style=\"text-align: right;\">\n",
              "      <th></th>\n",
              "      <th>ds</th>\n",
              "      <th>y</th>\n",
              "    </tr>\n",
              "  </thead>\n",
              "  <tbody>\n",
              "    <tr>\n",
              "      <th>0</th>\n",
              "      <td>2011-01-01</td>\n",
              "      <td>2000.0</td>\n",
              "    </tr>\n",
              "    <tr>\n",
              "      <th>1</th>\n",
              "      <td>2011-01-02</td>\n",
              "      <td>1490.0</td>\n",
              "    </tr>\n",
              "    <tr>\n",
              "      <th>2</th>\n",
              "      <td>2011-01-03</td>\n",
              "      <td>1491.0</td>\n",
              "    </tr>\n",
              "    <tr>\n",
              "      <th>3</th>\n",
              "      <td>2011-01-04</td>\n",
              "      <td>1491.0</td>\n",
              "    </tr>\n",
              "    <tr>\n",
              "      <th>4</th>\n",
              "      <td>2011-01-05</td>\n",
              "      <td>1491.0</td>\n",
              "    </tr>\n",
              "    <tr>\n",
              "      <th>...</th>\n",
              "      <td>...</td>\n",
              "      <td>...</td>\n",
              "    </tr>\n",
              "    <tr>\n",
              "      <th>3633</th>\n",
              "      <td>2020-12-12</td>\n",
              "      <td>3308.0</td>\n",
              "    </tr>\n",
              "    <tr>\n",
              "      <th>3634</th>\n",
              "      <td>2020-12-13</td>\n",
              "      <td>3300.0</td>\n",
              "    </tr>\n",
              "    <tr>\n",
              "      <th>3635</th>\n",
              "      <td>2020-12-14</td>\n",
              "      <td>3273.0</td>\n",
              "    </tr>\n",
              "    <tr>\n",
              "      <th>3636</th>\n",
              "      <td>2020-12-15</td>\n",
              "      <td>3068.0</td>\n",
              "    </tr>\n",
              "    <tr>\n",
              "      <th>3637</th>\n",
              "      <td>2020-12-16</td>\n",
              "      <td>3243.0</td>\n",
              "    </tr>\n",
              "  </tbody>\n",
              "</table>\n",
              "<p>3638 rows × 2 columns</p>\n",
              "</div>"
            ],
            "text/plain": [
              "             ds       y\n",
              "0    2011-01-01  2000.0\n",
              "1    2011-01-02  1490.0\n",
              "2    2011-01-03  1491.0\n",
              "3    2011-01-04  1491.0\n",
              "4    2011-01-05  1491.0\n",
              "...         ...     ...\n",
              "3633 2020-12-12  3308.0\n",
              "3634 2020-12-13  3300.0\n",
              "3635 2020-12-14  3273.0\n",
              "3636 2020-12-15  3068.0\n",
              "3637 2020-12-16  3243.0\n",
              "\n",
              "[3638 rows x 2 columns]"
            ]
          },
          "metadata": {
            "tags": []
          },
          "execution_count": 8
        }
      ]
    },
    {
      "cell_type": "code",
      "metadata": {
        "colab": {
          "base_uri": "https://localhost:8080/",
          "height": 402
        },
        "id": "xjHsM72337Gu",
        "outputId": "0c99abd3-df75-4d0d-928b-5b2094fc4ee0"
      },
      "source": [
        "level = data['ds'].to_frame()\n",
        "level['y'] = data['RES_LEVEL_FT']\n",
        "level = level.reset_index()\n",
        "level = level.drop(['date'],axis = 1)\n",
        "level"
      ],
      "execution_count": null,
      "outputs": [
        {
          "output_type": "execute_result",
          "data": {
            "text/html": [
              "<div>\n",
              "<style scoped>\n",
              "    .dataframe tbody tr th:only-of-type {\n",
              "        vertical-align: middle;\n",
              "    }\n",
              "\n",
              "    .dataframe tbody tr th {\n",
              "        vertical-align: top;\n",
              "    }\n",
              "\n",
              "    .dataframe thead th {\n",
              "        text-align: right;\n",
              "    }\n",
              "</style>\n",
              "<table border=\"1\" class=\"dataframe\">\n",
              "  <thead>\n",
              "    <tr style=\"text-align: right;\">\n",
              "      <th></th>\n",
              "      <th>ds</th>\n",
              "      <th>y</th>\n",
              "    </tr>\n",
              "  </thead>\n",
              "  <tbody>\n",
              "    <tr>\n",
              "      <th>0</th>\n",
              "      <td>2011-01-01</td>\n",
              "      <td>122.59</td>\n",
              "    </tr>\n",
              "    <tr>\n",
              "      <th>1</th>\n",
              "      <td>2011-01-02</td>\n",
              "      <td>122.68</td>\n",
              "    </tr>\n",
              "    <tr>\n",
              "      <th>2</th>\n",
              "      <td>2011-01-03</td>\n",
              "      <td>122.75</td>\n",
              "    </tr>\n",
              "    <tr>\n",
              "      <th>3</th>\n",
              "      <td>2011-01-04</td>\n",
              "      <td>122.79</td>\n",
              "    </tr>\n",
              "    <tr>\n",
              "      <th>4</th>\n",
              "      <td>2011-01-05</td>\n",
              "      <td>122.80</td>\n",
              "    </tr>\n",
              "    <tr>\n",
              "      <th>...</th>\n",
              "      <td>...</td>\n",
              "      <td>...</td>\n",
              "    </tr>\n",
              "    <tr>\n",
              "      <th>3633</th>\n",
              "      <td>2020-12-12</td>\n",
              "      <td>120.00</td>\n",
              "    </tr>\n",
              "    <tr>\n",
              "      <th>3634</th>\n",
              "      <td>2020-12-13</td>\n",
              "      <td>119.98</td>\n",
              "    </tr>\n",
              "    <tr>\n",
              "      <th>3635</th>\n",
              "      <td>2020-12-14</td>\n",
              "      <td>119.95</td>\n",
              "    </tr>\n",
              "    <tr>\n",
              "      <th>3636</th>\n",
              "      <td>2020-12-15</td>\n",
              "      <td>119.90</td>\n",
              "    </tr>\n",
              "    <tr>\n",
              "      <th>3637</th>\n",
              "      <td>2020-12-16</td>\n",
              "      <td>119.83</td>\n",
              "    </tr>\n",
              "  </tbody>\n",
              "</table>\n",
              "<p>3638 rows × 2 columns</p>\n",
              "</div>"
            ],
            "text/plain": [
              "             ds       y\n",
              "0    2011-01-01  122.59\n",
              "1    2011-01-02  122.68\n",
              "2    2011-01-03  122.75\n",
              "3    2011-01-04  122.79\n",
              "4    2011-01-05  122.80\n",
              "...         ...     ...\n",
              "3633 2020-12-12  120.00\n",
              "3634 2020-12-13  119.98\n",
              "3635 2020-12-14  119.95\n",
              "3636 2020-12-15  119.90\n",
              "3637 2020-12-16  119.83\n",
              "\n",
              "[3638 rows x 2 columns]"
            ]
          },
          "metadata": {
            "tags": []
          },
          "execution_count": 9
        }
      ]
    },
    {
      "cell_type": "code",
      "metadata": {
        "colab": {
          "base_uri": "https://localhost:8080/",
          "height": 402
        },
        "id": "ZxHH82r0crif",
        "outputId": "7aba78fe-2359-41e2-e09b-732bba72732b"
      },
      "source": [
        "rain = data['ds'].to_frame()\n",
        "rain['y'] = data['Rain']\n",
        "rain = rain.reset_index()\n",
        "rain = rain.drop(['date'],axis = 1)\n",
        "rain"
      ],
      "execution_count": null,
      "outputs": [
        {
          "output_type": "execute_result",
          "data": {
            "text/html": [
              "<div>\n",
              "<style scoped>\n",
              "    .dataframe tbody tr th:only-of-type {\n",
              "        vertical-align: middle;\n",
              "    }\n",
              "\n",
              "    .dataframe tbody tr th {\n",
              "        vertical-align: top;\n",
              "    }\n",
              "\n",
              "    .dataframe thead th {\n",
              "        text-align: right;\n",
              "    }\n",
              "</style>\n",
              "<table border=\"1\" class=\"dataframe\">\n",
              "  <thead>\n",
              "    <tr style=\"text-align: right;\">\n",
              "      <th></th>\n",
              "      <th>ds</th>\n",
              "      <th>y</th>\n",
              "    </tr>\n",
              "  </thead>\n",
              "  <tbody>\n",
              "    <tr>\n",
              "      <th>0</th>\n",
              "      <td>2011-01-01</td>\n",
              "      <td>0.0</td>\n",
              "    </tr>\n",
              "    <tr>\n",
              "      <th>1</th>\n",
              "      <td>2011-01-02</td>\n",
              "      <td>0.0</td>\n",
              "    </tr>\n",
              "    <tr>\n",
              "      <th>2</th>\n",
              "      <td>2011-01-03</td>\n",
              "      <td>0.0</td>\n",
              "    </tr>\n",
              "    <tr>\n",
              "      <th>3</th>\n",
              "      <td>2011-01-04</td>\n",
              "      <td>0.0</td>\n",
              "    </tr>\n",
              "    <tr>\n",
              "      <th>4</th>\n",
              "      <td>2011-01-05</td>\n",
              "      <td>0.0</td>\n",
              "    </tr>\n",
              "    <tr>\n",
              "      <th>...</th>\n",
              "      <td>...</td>\n",
              "      <td>...</td>\n",
              "    </tr>\n",
              "    <tr>\n",
              "      <th>3633</th>\n",
              "      <td>2020-12-12</td>\n",
              "      <td>0.0</td>\n",
              "    </tr>\n",
              "    <tr>\n",
              "      <th>3634</th>\n",
              "      <td>2020-12-13</td>\n",
              "      <td>0.0</td>\n",
              "    </tr>\n",
              "    <tr>\n",
              "      <th>3635</th>\n",
              "      <td>2020-12-14</td>\n",
              "      <td>0.0</td>\n",
              "    </tr>\n",
              "    <tr>\n",
              "      <th>3636</th>\n",
              "      <td>2020-12-15</td>\n",
              "      <td>0.0</td>\n",
              "    </tr>\n",
              "    <tr>\n",
              "      <th>3637</th>\n",
              "      <td>2020-12-16</td>\n",
              "      <td>0.0</td>\n",
              "    </tr>\n",
              "  </tbody>\n",
              "</table>\n",
              "<p>3638 rows × 2 columns</p>\n",
              "</div>"
            ],
            "text/plain": [
              "             ds    y\n",
              "0    2011-01-01  0.0\n",
              "1    2011-01-02  0.0\n",
              "2    2011-01-03  0.0\n",
              "3    2011-01-04  0.0\n",
              "4    2011-01-05  0.0\n",
              "...         ...  ...\n",
              "3633 2020-12-12  0.0\n",
              "3634 2020-12-13  0.0\n",
              "3635 2020-12-14  0.0\n",
              "3636 2020-12-15  0.0\n",
              "3637 2020-12-16  0.0\n",
              "\n",
              "[3638 rows x 2 columns]"
            ]
          },
          "metadata": {
            "tags": []
          },
          "execution_count": 10
        }
      ]
    },
    {
      "cell_type": "markdown",
      "metadata": {
        "id": "Yer8pWJSbWpg"
      },
      "source": [
        "## Train Model and Get Predictions"
      ]
    },
    {
      "cell_type": "code",
      "metadata": {
        "colab": {
          "base_uri": "https://localhost:8080/"
        },
        "id": "t5HRYdUpbWpg",
        "outputId": "808c1771-ddc8-44cc-9255-f6d7f23d7be5"
      },
      "source": [
        "# define the model\n",
        "model_present = Prophet()\n",
        "model_inflow = Prophet()\n",
        "model_outflow = Prophet()\n",
        "model_rain = Prophet()\n",
        "model_level = Prophet()\n",
        "# fit the model\n",
        "model_present.fit(present)\n",
        "model_inflow.fit(inflow)\n",
        "model_outflow.fit(outflow)\n",
        "model_rain.fit(rain)\n",
        "model_level.fit(level)"
      ],
      "execution_count": null,
      "outputs": [
        {
          "output_type": "stream",
          "text": [
            "INFO:numexpr.utils:NumExpr defaulting to 2 threads.\n",
            "INFO:fbprophet:Disabling daily seasonality. Run prophet with daily_seasonality=True to override this.\n",
            "INFO:fbprophet:Disabling daily seasonality. Run prophet with daily_seasonality=True to override this.\n",
            "INFO:fbprophet:Disabling daily seasonality. Run prophet with daily_seasonality=True to override this.\n",
            "INFO:fbprophet:Disabling daily seasonality. Run prophet with daily_seasonality=True to override this.\n",
            "INFO:fbprophet:Disabling daily seasonality. Run prophet with daily_seasonality=True to override this.\n"
          ],
          "name": "stderr"
        },
        {
          "output_type": "execute_result",
          "data": {
            "text/plain": [
              "<fbprophet.forecaster.Prophet at 0x7fb4b1b95ad0>"
            ]
          },
          "metadata": {
            "tags": []
          },
          "execution_count": 11
        }
      ]
    },
    {
      "cell_type": "code",
      "metadata": {
        "id": "C49_v1qRdeM-"
      },
      "source": [
        "future_present=model_present.make_future_dataframe(periods=90)\n",
        "future_inflow=model_inflow.make_future_dataframe(periods=90)\n",
        "future_outflow=model_outflow.make_future_dataframe(periods=90)\n",
        "future_rain=model_rain.make_future_dataframe(periods=90)\n",
        "future_level=model_level.make_future_dataframe(periods=90)"
      ],
      "execution_count": null,
      "outputs": []
    },
    {
      "cell_type": "code",
      "metadata": {
        "id": "x3hcuBcGbWpg"
      },
      "source": [
        "# use the model to make a forecast\n",
        "forecast_present = model_present.predict(future_present)\n",
        "forecast_inflow = model_inflow.predict(future_inflow)\n",
        "forecast_outflow = model_outflow.predict(future_outflow)\n",
        "forecast_rain = model_rain.predict(future_rain)\n",
        "forecast_level = model_level.predict(future_level)"
      ],
      "execution_count": null,
      "outputs": []
    },
    {
      "cell_type": "code",
      "metadata": {
        "colab": {
          "base_uri": "https://localhost:8080/",
          "height": 590
        },
        "id": "F4KayulGgZXE",
        "outputId": "e97a83a3-cb76-4cf3-d261-75a4a09d343c"
      },
      "source": [
        "forecast_present"
      ],
      "execution_count": null,
      "outputs": [
        {
          "output_type": "execute_result",
          "data": {
            "text/html": [
              "<div>\n",
              "<style scoped>\n",
              "    .dataframe tbody tr th:only-of-type {\n",
              "        vertical-align: middle;\n",
              "    }\n",
              "\n",
              "    .dataframe tbody tr th {\n",
              "        vertical-align: top;\n",
              "    }\n",
              "\n",
              "    .dataframe thead th {\n",
              "        text-align: right;\n",
              "    }\n",
              "</style>\n",
              "<table border=\"1\" class=\"dataframe\">\n",
              "  <thead>\n",
              "    <tr style=\"text-align: right;\">\n",
              "      <th></th>\n",
              "      <th>ds</th>\n",
              "      <th>trend</th>\n",
              "      <th>yhat_lower</th>\n",
              "      <th>yhat_upper</th>\n",
              "      <th>trend_lower</th>\n",
              "      <th>trend_upper</th>\n",
              "      <th>additive_terms</th>\n",
              "      <th>additive_terms_lower</th>\n",
              "      <th>additive_terms_upper</th>\n",
              "      <th>weekly</th>\n",
              "      <th>weekly_lower</th>\n",
              "      <th>weekly_upper</th>\n",
              "      <th>yearly</th>\n",
              "      <th>yearly_lower</th>\n",
              "      <th>yearly_upper</th>\n",
              "      <th>multiplicative_terms</th>\n",
              "      <th>multiplicative_terms_lower</th>\n",
              "      <th>multiplicative_terms_upper</th>\n",
              "      <th>yhat</th>\n",
              "    </tr>\n",
              "  </thead>\n",
              "  <tbody>\n",
              "    <tr>\n",
              "      <th>0</th>\n",
              "      <td>2011-01-01</td>\n",
              "      <td>42.722508</td>\n",
              "      <td>40.861485</td>\n",
              "      <td>56.287829</td>\n",
              "      <td>42.722508</td>\n",
              "      <td>42.722508</td>\n",
              "      <td>5.733666</td>\n",
              "      <td>5.733666</td>\n",
              "      <td>5.733666</td>\n",
              "      <td>0.014330</td>\n",
              "      <td>0.014330</td>\n",
              "      <td>0.014330</td>\n",
              "      <td>5.719335</td>\n",
              "      <td>5.719335</td>\n",
              "      <td>5.719335</td>\n",
              "      <td>0.0</td>\n",
              "      <td>0.0</td>\n",
              "      <td>0.0</td>\n",
              "      <td>48.456174</td>\n",
              "    </tr>\n",
              "    <tr>\n",
              "      <th>1</th>\n",
              "      <td>2011-01-02</td>\n",
              "      <td>42.683158</td>\n",
              "      <td>41.091807</td>\n",
              "      <td>56.205878</td>\n",
              "      <td>42.683158</td>\n",
              "      <td>42.683158</td>\n",
              "      <td>5.597337</td>\n",
              "      <td>5.597337</td>\n",
              "      <td>5.597337</td>\n",
              "      <td>-0.074699</td>\n",
              "      <td>-0.074699</td>\n",
              "      <td>-0.074699</td>\n",
              "      <td>5.672036</td>\n",
              "      <td>5.672036</td>\n",
              "      <td>5.672036</td>\n",
              "      <td>0.0</td>\n",
              "      <td>0.0</td>\n",
              "      <td>0.0</td>\n",
              "      <td>48.280495</td>\n",
              "    </tr>\n",
              "    <tr>\n",
              "      <th>2</th>\n",
              "      <td>2011-01-03</td>\n",
              "      <td>42.643809</td>\n",
              "      <td>40.201258</td>\n",
              "      <td>56.216152</td>\n",
              "      <td>42.643809</td>\n",
              "      <td>42.643809</td>\n",
              "      <td>5.598203</td>\n",
              "      <td>5.598203</td>\n",
              "      <td>5.598203</td>\n",
              "      <td>-0.015732</td>\n",
              "      <td>-0.015732</td>\n",
              "      <td>-0.015732</td>\n",
              "      <td>5.613935</td>\n",
              "      <td>5.613935</td>\n",
              "      <td>5.613935</td>\n",
              "      <td>0.0</td>\n",
              "      <td>0.0</td>\n",
              "      <td>0.0</td>\n",
              "      <td>48.242011</td>\n",
              "    </tr>\n",
              "    <tr>\n",
              "      <th>3</th>\n",
              "      <td>2011-01-04</td>\n",
              "      <td>42.604459</td>\n",
              "      <td>41.004855</td>\n",
              "      <td>56.126390</td>\n",
              "      <td>42.604459</td>\n",
              "      <td>42.604459</td>\n",
              "      <td>5.496797</td>\n",
              "      <td>5.496797</td>\n",
              "      <td>5.496797</td>\n",
              "      <td>-0.046876</td>\n",
              "      <td>-0.046876</td>\n",
              "      <td>-0.046876</td>\n",
              "      <td>5.543673</td>\n",
              "      <td>5.543673</td>\n",
              "      <td>5.543673</td>\n",
              "      <td>0.0</td>\n",
              "      <td>0.0</td>\n",
              "      <td>0.0</td>\n",
              "      <td>48.101256</td>\n",
              "    </tr>\n",
              "    <tr>\n",
              "      <th>4</th>\n",
              "      <td>2011-01-05</td>\n",
              "      <td>42.565109</td>\n",
              "      <td>39.553364</td>\n",
              "      <td>55.751876</td>\n",
              "      <td>42.565109</td>\n",
              "      <td>42.565109</td>\n",
              "      <td>5.475044</td>\n",
              "      <td>5.475044</td>\n",
              "      <td>5.475044</td>\n",
              "      <td>0.014952</td>\n",
              "      <td>0.014952</td>\n",
              "      <td>0.014952</td>\n",
              "      <td>5.460092</td>\n",
              "      <td>5.460092</td>\n",
              "      <td>5.460092</td>\n",
              "      <td>0.0</td>\n",
              "      <td>0.0</td>\n",
              "      <td>0.0</td>\n",
              "      <td>48.040154</td>\n",
              "    </tr>\n",
              "    <tr>\n",
              "      <th>...</th>\n",
              "      <td>...</td>\n",
              "      <td>...</td>\n",
              "      <td>...</td>\n",
              "      <td>...</td>\n",
              "      <td>...</td>\n",
              "      <td>...</td>\n",
              "      <td>...</td>\n",
              "      <td>...</td>\n",
              "      <td>...</td>\n",
              "      <td>...</td>\n",
              "      <td>...</td>\n",
              "      <td>...</td>\n",
              "      <td>...</td>\n",
              "      <td>...</td>\n",
              "      <td>...</td>\n",
              "      <td>...</td>\n",
              "      <td>...</td>\n",
              "      <td>...</td>\n",
              "      <td>...</td>\n",
              "    </tr>\n",
              "    <tr>\n",
              "      <th>3723</th>\n",
              "      <td>2021-03-12</td>\n",
              "      <td>37.832372</td>\n",
              "      <td>24.569994</td>\n",
              "      <td>40.575523</td>\n",
              "      <td>37.476821</td>\n",
              "      <td>38.238913</td>\n",
              "      <td>-5.612271</td>\n",
              "      <td>-5.612271</td>\n",
              "      <td>-5.612271</td>\n",
              "      <td>0.056949</td>\n",
              "      <td>0.056949</td>\n",
              "      <td>0.056949</td>\n",
              "      <td>-5.669221</td>\n",
              "      <td>-5.669221</td>\n",
              "      <td>-5.669221</td>\n",
              "      <td>0.0</td>\n",
              "      <td>0.0</td>\n",
              "      <td>0.0</td>\n",
              "      <td>32.220100</td>\n",
              "    </tr>\n",
              "    <tr>\n",
              "      <th>3724</th>\n",
              "      <td>2021-03-13</td>\n",
              "      <td>37.840348</td>\n",
              "      <td>24.331474</td>\n",
              "      <td>39.876664</td>\n",
              "      <td>37.478467</td>\n",
              "      <td>38.257850</td>\n",
              "      <td>-5.832343</td>\n",
              "      <td>-5.832343</td>\n",
              "      <td>-5.832343</td>\n",
              "      <td>0.014330</td>\n",
              "      <td>0.014330</td>\n",
              "      <td>0.014330</td>\n",
              "      <td>-5.846674</td>\n",
              "      <td>-5.846674</td>\n",
              "      <td>-5.846674</td>\n",
              "      <td>0.0</td>\n",
              "      <td>0.0</td>\n",
              "      <td>0.0</td>\n",
              "      <td>32.008004</td>\n",
              "    </tr>\n",
              "    <tr>\n",
              "      <th>3725</th>\n",
              "      <td>2021-03-14</td>\n",
              "      <td>37.848324</td>\n",
              "      <td>24.472790</td>\n",
              "      <td>39.736064</td>\n",
              "      <td>37.476954</td>\n",
              "      <td>38.276265</td>\n",
              "      <td>-6.099585</td>\n",
              "      <td>-6.099585</td>\n",
              "      <td>-6.099585</td>\n",
              "      <td>-0.074699</td>\n",
              "      <td>-0.074699</td>\n",
              "      <td>-0.074699</td>\n",
              "      <td>-6.024886</td>\n",
              "      <td>-6.024886</td>\n",
              "      <td>-6.024886</td>\n",
              "      <td>0.0</td>\n",
              "      <td>0.0</td>\n",
              "      <td>0.0</td>\n",
              "      <td>31.748738</td>\n",
              "    </tr>\n",
              "    <tr>\n",
              "      <th>3726</th>\n",
              "      <td>2021-03-15</td>\n",
              "      <td>37.856299</td>\n",
              "      <td>24.039062</td>\n",
              "      <td>39.289749</td>\n",
              "      <td>37.475440</td>\n",
              "      <td>38.294508</td>\n",
              "      <td>-6.220303</td>\n",
              "      <td>-6.220303</td>\n",
              "      <td>-6.220303</td>\n",
              "      <td>-0.015732</td>\n",
              "      <td>-0.015732</td>\n",
              "      <td>-0.015732</td>\n",
              "      <td>-6.204571</td>\n",
              "      <td>-6.204571</td>\n",
              "      <td>-6.204571</td>\n",
              "      <td>0.0</td>\n",
              "      <td>0.0</td>\n",
              "      <td>0.0</td>\n",
              "      <td>31.635996</td>\n",
              "    </tr>\n",
              "    <tr>\n",
              "      <th>3727</th>\n",
              "      <td>2021-03-16</td>\n",
              "      <td>37.864275</td>\n",
              "      <td>23.334212</td>\n",
              "      <td>38.736994</td>\n",
              "      <td>37.474779</td>\n",
              "      <td>38.308966</td>\n",
              "      <td>-6.433299</td>\n",
              "      <td>-6.433299</td>\n",
              "      <td>-6.433299</td>\n",
              "      <td>-0.046876</td>\n",
              "      <td>-0.046876</td>\n",
              "      <td>-0.046876</td>\n",
              "      <td>-6.386422</td>\n",
              "      <td>-6.386422</td>\n",
              "      <td>-6.386422</td>\n",
              "      <td>0.0</td>\n",
              "      <td>0.0</td>\n",
              "      <td>0.0</td>\n",
              "      <td>31.430977</td>\n",
              "    </tr>\n",
              "  </tbody>\n",
              "</table>\n",
              "<p>3728 rows × 19 columns</p>\n",
              "</div>"
            ],
            "text/plain": [
              "             ds      trend  ...  multiplicative_terms_upper       yhat\n",
              "0    2011-01-01  42.722508  ...                         0.0  48.456174\n",
              "1    2011-01-02  42.683158  ...                         0.0  48.280495\n",
              "2    2011-01-03  42.643809  ...                         0.0  48.242011\n",
              "3    2011-01-04  42.604459  ...                         0.0  48.101256\n",
              "4    2011-01-05  42.565109  ...                         0.0  48.040154\n",
              "...         ...        ...  ...                         ...        ...\n",
              "3723 2021-03-12  37.832372  ...                         0.0  32.220100\n",
              "3724 2021-03-13  37.840348  ...                         0.0  32.008004\n",
              "3725 2021-03-14  37.848324  ...                         0.0  31.748738\n",
              "3726 2021-03-15  37.856299  ...                         0.0  31.635996\n",
              "3727 2021-03-16  37.864275  ...                         0.0  31.430977\n",
              "\n",
              "[3728 rows x 19 columns]"
            ]
          },
          "metadata": {
            "tags": []
          },
          "execution_count": 14
        }
      ]
    },
    {
      "cell_type": "code",
      "metadata": {
        "colab": {
          "base_uri": "https://localhost:8080/"
        },
        "id": "Pvig5-3RgZaA",
        "outputId": "6e6b2cf6-5494-46bf-cb3a-41e8502188b0"
      },
      "source": [
        "df = forecast_present['ds'].to_frame()\n",
        "df['present'] = forecast_present['yhat']\n",
        "df['level'] = forecast_level['yhat']\n",
        "df['inflow'] = forecast_inflow['yhat']\n",
        "df['outflow'] = forecast_outflow['yhat']\n",
        "df['rain'] = forecast_rain['yhat']\n",
        "df = df.set_index('ds')\n",
        "df.info()"
      ],
      "execution_count": null,
      "outputs": [
        {
          "output_type": "stream",
          "text": [
            "<class 'pandas.core.frame.DataFrame'>\n",
            "DatetimeIndex: 3728 entries, 2011-01-01 to 2021-03-16\n",
            "Data columns (total 5 columns):\n",
            " #   Column   Non-Null Count  Dtype  \n",
            "---  ------   --------------  -----  \n",
            " 0   present  3728 non-null   float64\n",
            " 1   level    3728 non-null   float64\n",
            " 2   inflow   3728 non-null   float64\n",
            " 3   outflow  3728 non-null   float64\n",
            " 4   rain     3728 non-null   float64\n",
            "dtypes: float64(5)\n",
            "memory usage: 174.8 KB\n"
          ],
          "name": "stdout"
        }
      ]
    },
    {
      "cell_type": "code",
      "metadata": {
        "colab": {
          "base_uri": "https://localhost:8080/",
          "height": 378
        },
        "id": "xMzcY6vobWph",
        "outputId": "aefa3b58-e557-48b5-d162-133f5e00aa93"
      },
      "source": [
        "# plot expected vs actual\n",
        "pyplot.plot(level['y'].values, label='Actual')\n",
        "pyplot.plot(forecast_level['yhat'].values, label='Predicted')\n",
        "pyplot.legend()\n",
        "pyplot.show()"
      ],
      "execution_count": null,
      "outputs": [
        {
          "output_type": "display_data",
          "data": {
            "image/png": "[encoded data removed]",
            "text/plain": [
              "<Figure size 720x432 with 1 Axes>"
            ]
          },
          "metadata": {
            "tags": []
          }
        }
      ]
    },
    {
      "cell_type": "code",
      "metadata": {
        "colab": {
          "base_uri": "https://localhost:8080/",
          "height": 17
        },
        "id": "Likcy7wJ5Aiv",
        "outputId": "a7085ac5-526e-4036-b5dd-46c6733fa4c7"
      },
      "source": [
        "df.to_csv('df.csv')\n",
        "from google.colab import files\n",
        "files.download(\"df.csv\")"
      ],
      "execution_count": null,
      "outputs": [
        {
          "output_type": "display_data",
          "data": {
            "application/javascript": [
              "\n",
              "    async function download(id, filename, size) {\n",
              "      if (!google.colab.kernel.accessAllowed) {\n",
              "        return;\n",
              "      }\n",
              "      const div = document.createElement('div');\n",
              "      const label = document.createElement('label');\n",
              "      label.textContent = `Downloading \"${filename}\": `;\n",
              "      div.appendChild(label);\n",
              "      const progress = document.createElement('progress');\n",
              "      progress.max = size;\n",
              "      div.appendChild(progress);\n",
              "      document.body.appendChild(div);\n",
              "\n",
              "      const buffers = [];\n",
              "      let downloaded = 0;\n",
              "\n",
              "      const channel = await google.colab.kernel.comms.open(id);\n",
              "      // Send a message to notify the kernel that we're ready.\n",
              "      channel.send({})\n",
              "\n",
              "      for await (const message of channel.messages) {\n",
              "        // Send a message to notify the kernel that we're ready.\n",
              "        channel.send({})\n",
              "        if (message.buffers) {\n",
              "          for (const buffer of message.buffers) {\n",
              "            buffers.push(buffer);\n",
              "            downloaded += buffer.byteLength;\n",
              "            progress.value = downloaded;\n",
              "          }\n",
              "        }\n",
              "      }\n",
              "      const blob = new Blob(buffers, {type: 'application/binary'});\n",
              "      const a = document.createElement('a');\n",
              "      a.href = window.URL.createObjectURL(blob);\n",
              "      a.download = filename;\n",
              "      div.appendChild(a);\n",
              "      a.click();\n",
              "      div.remove();\n",
              "    }\n",
              "  "
            ],
            "text/plain": [
              "<IPython.core.display.Javascript object>"
            ]
          },
          "metadata": {
            "tags": []
          }
        },
        {
          "output_type": "display_data",
          "data": {
            "application/javascript": [
              "download(\"download_9051f6c3-e2fe-4847-b0da-ecbd1e3cc892\", \"df.csv\", 386668)"
            ],
            "text/plain": [
              "<IPython.core.display.Javascript object>"
            ]
          },
          "metadata": {
            "tags": []
          }
        }
      ]
    },
    {
      "cell_type": "code",
      "metadata": {
        "colab": {
          "base_uri": "https://localhost:8080/",
          "height": 542
        },
        "id": "KyLfVgh5JOwn",
        "outputId": "46aa2a7d-38c8-4e48-9751-5bd95923e49c"
      },
      "source": [
        "import plotly.express as px\n",
        "import pandas as pd\n",
        "df = pd.read_csv('predicted.csv')\n",
        "fig = px.line(df, x=\"ds\", y=\"level\", color=\"type\")\n",
        "fig.show()"
      ],
      "execution_count": null,
      "outputs": [
        {
          "output_type": "display_data",
          "data": {
            "text/html": [
              "<html>\n",
              "<head><meta charset=\"utf-8\" /></head>\n",
              "<body>\n",
              "    <div>\n",
              "            <script src=\"https://cdnjs.cloudflare.com/ajax/libs/mathjax/2.7.5/MathJax.js?config=TeX-AMS-MML_SVG\"></script><script type=\"text/javascript\">if (window.MathJax) {MathJax.Hub.Config({SVG: {font: \"STIX-Web\"}});}</script>\n",
              "                <script type=\"text/javascript\">window.PlotlyConfig = {MathJaxConfig: 'local'};</script>\n",
              "        <script src=\"https://cdn.plot.ly/plotly-latest.min.js\"></script>    \n",
              "            <div id=\"3615b6fd-3909-4a13-91e9-929a642f204c\" class=\"plotly-graph-div\" style=\"height:525px; width:100%;\"></div>\n",
              "            <script type=\"text/javascript\">\n",
              "                \n",
              "                    window.PLOTLYENV=window.PLOTLYENV || {};\n",
              "                    \n",
              "                if (document.getElementById(\"3615b6fd-3909-4a13-91e9-929a642f204c\")) {\n",
              "                    Plotly.newPlot(\n",
              "                        '3615b6fd-3909-4a13-91e9-929a642f204c',\n",
              "                        [{\"hoverlabel\": {\"namelength\": 0}, \"hovertemplate\": \"type=Data<br>ds=%{x}<br>level=%{y}\", \"legendgroup\": \"type=Data\", \"line\": {\"color\": \"#636efa\", \"dash\": \"solid\"}, \"mode\": \"lines\", \"name\": \"type=Data\", \"showlegend\": true, \"type\": \"scatter\", \"x\": [\"01-11-2020\", \"02-11-2020\", \"03-11-2020\", \"04-11-2020\", \"05-11-2020\", \"06-11-2020\", \"07-11-2020\", \"08-11-2020\", \"09-11-2020\", \"10-11-2020\", \"11-11-2020\", \"12-11-2020\", \"13-11-2020\", \"14-11-2020\", \"15-11-2020\", \"16-11-2020\", \"17-11-2020\", \"18-11-2020\", \"19-11-2020\", \"20-11-2020\", \"21-11-2020\", \"22-11-2020\", \"23-11-2020\", \"24-11-2020\", \"25-11-2020\", \"26-11-2020\", \"27-11-2020\", \"28-11-2020\", \"29-11-2020\", \"30-11-2020\", \"01-12-2020\", \"02-12-2020\", \"03-12-2020\", \"04-12-2020\", \"05-12-2020\", \"06-12-2020\", \"07-12-2020\", \"08-12-2020\", \"09-12-2020\", \"10-12-2020\", \"11-12-2020\", \"12-12-2020\", \"13-12-2020\", \"14-12-2020\", \"15-12-2020\", \"16-12-2020\"], \"xaxis\": \"x\", \"y\": [126.6416039, 126.58994229999999, 126.53210220000001, 126.48590690000002, 126.47935670000001, 126.3884696, 126.31196969999999, 126.16441129999998, 126.0656936, 125.9653313, 125.88151869999999, 125.84243740000001, 125.72409579999999, 125.6250236, 125.4594077, 125.346627, 125.2355453, 125.14360559999999, 125.0981686, 124.97438819999999, 124.86994070000001, 124.6981976, 124.57779409999999, 124.45695479999999, 124.3526159, 124.29178859999999, 124.14945120000002, 124.0232922, 123.8268874, 123.6792672, 123.52923349999999, 123.3944668, 123.30286720000001, 123.1304193, 122.975902, 122.7540298, 122.5849793, 122.4186666, 122.27381129999999, 122.17923859999999, 122.01170520000001, 121.8705758, 121.67093390000001, 121.5330862, 121.4068216, 121.31046770000002], \"yaxis\": \"y\"}, {\"hoverlabel\": {\"namelength\": 0}, \"hovertemplate\": \"type=30-Days<br>ds=%{x}<br>level=%{y}\", \"legendgroup\": \"type=30-Days\", \"line\": {\"color\": \"#EF553B\", \"dash\": \"solid\"}, \"mode\": \"lines\", \"name\": \"type=30-Days\", \"showlegend\": true, \"type\": \"scatter\", \"x\": [\"17-12-2020\", \"18-12-2020\", \"19-12-2020\", \"20-12-2020\", \"21-12-2020\", \"22-12-2020\", \"23-12-2020\", \"24-12-2020\", \"25-12-2020\", \"26-12-2020\", \"27-12-2020\", \"28-12-2020\", \"29-12-2020\", \"30-12-2020\", \"31-12-2020\", \"01-01-2021\", \"02-01-2021\", \"03-01-2021\", \"04-01-2021\", \"05-01-2021\", \"06-01-2021\", \"07-01-2021\", \"08-01-2021\", \"09-01-2021\", \"10-01-2021\", \"11-01-2021\", \"12-01-2021\", \"13-01-2021\", \"14-01-2021\", \"15-01-2021\"], \"xaxis\": \"x\", \"y\": [121.2721902, 121.16782659999998, 121.0955771, 120.9691384, 120.9072386, 120.8579324, 120.8377009, 120.8727969, 120.8371301, 120.82700870000001, 120.7543267, 120.73614909999999, 120.71905679999999, 120.7182893, 120.7591305, 120.7148252, 120.68134620000001, 120.5705973, 120.50000590000002, 120.41686570000002, 120.33746809999998, 120.2884665, 120.144764, 120.0042423, 119.78092040000001, 119.5944963, 119.39463490000001, 119.2000406, 119.0397625, 118.79102150000001], \"yaxis\": \"y\"}, {\"hoverlabel\": {\"namelength\": 0}, \"hovertemplate\": \"type=90-Days<br>ds=%{x}<br>level=%{y}\", \"legendgroup\": \"type=90-Days\", \"line\": {\"color\": \"#00cc96\", \"dash\": \"solid\"}, \"mode\": \"lines\", \"name\": \"type=90-Days\", \"showlegend\": true, \"type\": \"scatter\", \"x\": [\"16-01-2021\", \"17-01-2021\", \"18-01-2021\", \"19-01-2021\", \"20-01-2021\", \"21-01-2021\", \"22-01-2021\", \"23-01-2021\", \"24-01-2021\", \"25-01-2021\", \"26-01-2021\", \"27-01-2021\", \"28-01-2021\", \"29-01-2021\", \"30-01-2021\", \"31-01-2021\", \"01-02-2021\", \"02-02-2021\", \"03-02-2021\", \"04-02-2021\", \"05-02-2021\", \"06-02-2021\", \"07-02-2021\", \"08-02-2021\", \"09-02-2021\", \"10-02-2021\", \"11-02-2021\", \"12-02-2021\", \"13-02-2021\", \"14-02-2021\", \"15-02-2021\", \"16-02-2021\", \"17-02-2021\", \"18-02-2021\", \"19-02-2021\", \"20-02-2021\", \"21-02-2021\", \"22-02-2021\", \"23-02-2021\", \"24-02-2021\", \"25-02-2021\", \"26-02-2021\", \"27-02-2021\", \"28-02-2021\", \"01-03-2021\", \"02-03-2021\", \"03-03-2021\", \"04-03-2021\", \"05-03-2021\", \"06-03-2021\", \"07-03-2021\", \"08-03-2021\", \"09-03-2021\", \"10-03-2021\", \"11-03-2021\", \"12-03-2021\", \"13-03-2021\", \"14-03-2021\", \"15-03-2021\", \"16-03-2021\"], \"xaxis\": \"x\", \"y\": [118.5538821, 118.2443554, 117.9838919, 117.7236243, 117.48340479999999, 117.2930814, 117.0303064, 116.795198, 116.50344479999998, 116.2758076, 116.06238290000002, 115.8816679, 115.7618743, 115.5787801, 115.43044109999998, 115.2303492, 115.0969916, 114.9781721, 114.89013510000001, 114.8589345, 114.7583392, 114.6845926, 114.54961270000001, 114.47058590000002, 114.3943158, 114.3363646, 114.3224318, 114.2262588, 114.14437990000002, 113.9893042, 113.879084, 113.7616307, 113.6538169, 113.5828119, 113.42393899999999, 113.2753773, 113.05129409999999, 112.87136459999999, 112.6850412, 112.5106139, 112.37650719999999, 112.15910670000001, 111.9574357, 111.68627040000001, 111.4656507, 111.24514750000002, 111.0429304, 110.8870781, 110.6534271, 110.4402747, 110.16152790000001, 109.93625, 109.7129686, 109.50878349999999, 109.35071940000002, 109.11361399999998, 108.8948595, 108.6075848, 108.3702318, 108.1308869], \"yaxis\": \"y\"}],\n",
              "                        {\"legend\": {\"tracegroupgap\": 0}, \"margin\": {\"t\": 60}, \"template\": {\"data\": {\"bar\": [{\"error_x\": {\"color\": \"#2a3f5f\"}, \"error_y\": {\"color\": \"#2a3f5f\"}, \"marker\": {\"line\": {\"color\": \"#E5ECF6\", \"width\": 0.5}}, \"type\": \"bar\"}], \"barpolar\": [{\"marker\": {\"line\": {\"color\": \"#E5ECF6\", \"width\": 0.5}}, \"type\": \"barpolar\"}], \"carpet\": [{\"aaxis\": {\"endlinecolor\": \"#2a3f5f\", \"gridcolor\": \"white\", \"linecolor\": \"white\", \"minorgridcolor\": \"white\", \"startlinecolor\": \"#2a3f5f\"}, \"baxis\": {\"endlinecolor\": \"#2a3f5f\", \"gridcolor\": \"white\", \"linecolor\": \"white\", \"minorgridcolor\": \"white\", \"startlinecolor\": \"#2a3f5f\"}, \"type\": \"carpet\"}], \"choropleth\": [{\"colorbar\": {\"outlinewidth\": 0, \"ticks\": \"\"}, \"type\": \"choropleth\"}], \"contour\": [{\"colorbar\": {\"outlinewidth\": 0, \"ticks\": \"\"}, \"colorscale\": [[0.0, \"#0d0887\"], [0.1111111111111111, \"#46039f\"], [0.2222222222222222, \"#7201a8\"], [0.3333333333333333, \"#9c179e\"], [0.4444444444444444, \"#bd3786\"], [0.5555555555555556, \"#d8576b\"], [0.6666666666666666, \"#ed7953\"], [0.7777777777777778, \"#fb9f3a\"], [0.8888888888888888, \"#fdca26\"], [1.0, \"#f0f921\"]], \"type\": \"contour\"}], \"contourcarpet\": [{\"colorbar\": {\"outlinewidth\": 0, \"ticks\": \"\"}, \"type\": \"contourcarpet\"}], \"heatmap\": [{\"colorbar\": {\"outlinewidth\": 0, \"ticks\": \"\"}, \"colorscale\": [[0.0, \"#0d0887\"], [0.1111111111111111, \"#46039f\"], [0.2222222222222222, \"#7201a8\"], [0.3333333333333333, \"#9c179e\"], [0.4444444444444444, \"#bd3786\"], [0.5555555555555556, \"#d8576b\"], [0.6666666666666666, \"#ed7953\"], [0.7777777777777778, \"#fb9f3a\"], [0.8888888888888888, \"#fdca26\"], [1.0, \"#f0f921\"]], \"type\": \"heatmap\"}], \"heatmapgl\": [{\"colorbar\": {\"outlinewidth\": 0, \"ticks\": \"\"}, \"colorscale\": [[0.0, \"#0d0887\"], [0.1111111111111111, \"#46039f\"], [0.2222222222222222, \"#7201a8\"], [0.3333333333333333, \"#9c179e\"], [0.4444444444444444, \"#bd3786\"], [0.5555555555555556, \"#d8576b\"], [0.6666666666666666, \"#ed7953\"], [0.7777777777777778, \"#fb9f3a\"], [0.8888888888888888, \"#fdca26\"], [1.0, \"#f0f921\"]], \"type\": \"heatmapgl\"}], \"histogram\": [{\"marker\": {\"colorbar\": {\"outlinewidth\": 0, \"ticks\": \"\"}}, \"type\": \"histogram\"}], \"histogram2d\": [{\"colorbar\": {\"outlinewidth\": 0, \"ticks\": \"\"}, \"colorscale\": [[0.0, \"#0d0887\"], [0.1111111111111111, \"#46039f\"], [0.2222222222222222, \"#7201a8\"], [0.3333333333333333, \"#9c179e\"], [0.4444444444444444, \"#bd3786\"], [0.5555555555555556, \"#d8576b\"], [0.6666666666666666, \"#ed7953\"], [0.7777777777777778, \"#fb9f3a\"], [0.8888888888888888, \"#fdca26\"], [1.0, \"#f0f921\"]], \"type\": \"histogram2d\"}], \"histogram2dcontour\": [{\"colorbar\": {\"outlinewidth\": 0, \"ticks\": \"\"}, \"colorscale\": [[0.0, \"#0d0887\"], [0.1111111111111111, \"#46039f\"], [0.2222222222222222, \"#7201a8\"], [0.3333333333333333, \"#9c179e\"], [0.4444444444444444, \"#bd3786\"], [0.5555555555555556, \"#d8576b\"], [0.6666666666666666, \"#ed7953\"], [0.7777777777777778, \"#fb9f3a\"], [0.8888888888888888, \"#fdca26\"], [1.0, \"#f0f921\"]], \"type\": \"histogram2dcontour\"}], \"mesh3d\": [{\"colorbar\": {\"outlinewidth\": 0, \"ticks\": \"\"}, \"type\": \"mesh3d\"}], \"parcoords\": [{\"line\": {\"colorbar\": {\"outlinewidth\": 0, \"ticks\": \"\"}}, \"type\": \"parcoords\"}], \"pie\": [{\"automargin\": true, \"type\": \"pie\"}], \"scatter\": [{\"marker\": {\"colorbar\": {\"outlinewidth\": 0, \"ticks\": \"\"}}, \"type\": \"scatter\"}], \"scatter3d\": [{\"line\": {\"colorbar\": {\"outlinewidth\": 0, \"ticks\": \"\"}}, \"marker\": {\"colorbar\": {\"outlinewidth\": 0, \"ticks\": \"\"}}, \"type\": \"scatter3d\"}], \"scattercarpet\": [{\"marker\": {\"colorbar\": {\"outlinewidth\": 0, \"ticks\": \"\"}}, \"type\": \"scattercarpet\"}], \"scattergeo\": [{\"marker\": {\"colorbar\": {\"outlinewidth\": 0, \"ticks\": \"\"}}, \"type\": \"scattergeo\"}], \"scattergl\": [{\"marker\": {\"colorbar\": {\"outlinewidth\": 0, \"ticks\": \"\"}}, \"type\": \"scattergl\"}], \"scattermapbox\": [{\"marker\": {\"colorbar\": {\"outlinewidth\": 0, \"ticks\": \"\"}}, \"type\": \"scattermapbox\"}], \"scatterpolar\": [{\"marker\": {\"colorbar\": {\"outlinewidth\": 0, \"ticks\": \"\"}}, \"type\": \"scatterpolar\"}], \"scatterpolargl\": [{\"marker\": {\"colorbar\": {\"outlinewidth\": 0, \"ticks\": \"\"}}, \"type\": \"scatterpolargl\"}], \"scatterternary\": [{\"marker\": {\"colorbar\": {\"outlinewidth\": 0, \"ticks\": \"\"}}, \"type\": \"scatterternary\"}], \"surface\": [{\"colorbar\": {\"outlinewidth\": 0, \"ticks\": \"\"}, \"colorscale\": [[0.0, \"#0d0887\"], [0.1111111111111111, \"#46039f\"], [0.2222222222222222, \"#7201a8\"], [0.3333333333333333, \"#9c179e\"], [0.4444444444444444, \"#bd3786\"], [0.5555555555555556, \"#d8576b\"], [0.6666666666666666, \"#ed7953\"], [0.7777777777777778, \"#fb9f3a\"], [0.8888888888888888, \"#fdca26\"], [1.0, \"#f0f921\"]], \"type\": \"surface\"}], \"table\": [{\"cells\": {\"fill\": {\"color\": \"#EBF0F8\"}, \"line\": {\"color\": \"white\"}}, \"header\": {\"fill\": {\"color\": \"#C8D4E3\"}, \"line\": {\"color\": \"white\"}}, \"type\": \"table\"}]}, \"layout\": {\"annotationdefaults\": {\"arrowcolor\": \"#2a3f5f\", \"arrowhead\": 0, \"arrowwidth\": 1}, \"coloraxis\": {\"colorbar\": {\"outlinewidth\": 0, \"ticks\": \"\"}}, \"colorscale\": {\"diverging\": [[0, \"#8e0152\"], [0.1, \"#c51b7d\"], [0.2, \"#de77ae\"], [0.3, \"#f1b6da\"], [0.4, \"#fde0ef\"], [0.5, \"#f7f7f7\"], [0.6, \"#e6f5d0\"], [0.7, \"#b8e186\"], [0.8, \"#7fbc41\"], [0.9, \"#4d9221\"], [1, \"#276419\"]], \"sequential\": [[0.0, \"#0d0887\"], [0.1111111111111111, \"#46039f\"], [0.2222222222222222, \"#7201a8\"], [0.3333333333333333, \"#9c179e\"], [0.4444444444444444, \"#bd3786\"], [0.5555555555555556, \"#d8576b\"], [0.6666666666666666, \"#ed7953\"], [0.7777777777777778, \"#fb9f3a\"], [0.8888888888888888, \"#fdca26\"], [1.0, \"#f0f921\"]], \"sequentialminus\": [[0.0, \"#0d0887\"], [0.1111111111111111, \"#46039f\"], [0.2222222222222222, \"#7201a8\"], [0.3333333333333333, \"#9c179e\"], [0.4444444444444444, \"#bd3786\"], [0.5555555555555556, \"#d8576b\"], [0.6666666666666666, \"#ed7953\"], [0.7777777777777778, \"#fb9f3a\"], [0.8888888888888888, \"#fdca26\"], [1.0, \"#f0f921\"]]}, \"colorway\": [\"#636efa\", \"#EF553B\", \"#00cc96\", \"#ab63fa\", \"#FFA15A\", \"#19d3f3\", \"#FF6692\", \"#B6E880\", \"#FF97FF\", \"#FECB52\"], \"font\": {\"color\": \"#2a3f5f\"}, \"geo\": {\"bgcolor\": \"white\", \"lakecolor\": \"white\", \"landcolor\": \"#E5ECF6\", \"showlakes\": true, \"showland\": true, \"subunitcolor\": \"white\"}, \"hoverlabel\": {\"align\": \"left\"}, \"hovermode\": \"closest\", \"mapbox\": {\"style\": \"light\"}, \"paper_bgcolor\": \"white\", \"plot_bgcolor\": \"#E5ECF6\", \"polar\": {\"angularaxis\": {\"gridcolor\": \"white\", \"linecolor\": \"white\", \"ticks\": \"\"}, \"bgcolor\": \"#E5ECF6\", \"radialaxis\": {\"gridcolor\": \"white\", \"linecolor\": \"white\", \"ticks\": \"\"}}, \"scene\": {\"xaxis\": {\"backgroundcolor\": \"#E5ECF6\", \"gridcolor\": \"white\", \"gridwidth\": 2, \"linecolor\": \"white\", \"showbackground\": true, \"ticks\": \"\", \"zerolinecolor\": \"white\"}, \"yaxis\": {\"backgroundcolor\": \"#E5ECF6\", \"gridcolor\": \"white\", \"gridwidth\": 2, \"linecolor\": \"white\", \"showbackground\": true, \"ticks\": \"\", \"zerolinecolor\": \"white\"}, \"zaxis\": {\"backgroundcolor\": \"#E5ECF6\", \"gridcolor\": \"white\", \"gridwidth\": 2, \"linecolor\": \"white\", \"showbackground\": true, \"ticks\": \"\", \"zerolinecolor\": \"white\"}}, \"shapedefaults\": {\"line\": {\"color\": \"#2a3f5f\"}}, \"ternary\": {\"aaxis\": {\"gridcolor\": \"white\", \"linecolor\": \"white\", \"ticks\": \"\"}, \"baxis\": {\"gridcolor\": \"white\", \"linecolor\": \"white\", \"ticks\": \"\"}, \"bgcolor\": \"#E5ECF6\", \"caxis\": {\"gridcolor\": \"white\", \"linecolor\": \"white\", \"ticks\": \"\"}}, \"title\": {\"x\": 0.05}, \"xaxis\": {\"automargin\": true, \"gridcolor\": \"white\", \"linecolor\": \"white\", \"ticks\": \"\", \"title\": {\"standoff\": 15}, \"zerolinecolor\": \"white\", \"zerolinewidth\": 2}, \"yaxis\": {\"automargin\": true, \"gridcolor\": \"white\", \"linecolor\": \"white\", \"ticks\": \"\", \"title\": {\"standoff\": 15}, \"zerolinecolor\": \"white\", \"zerolinewidth\": 2}}}, \"xaxis\": {\"anchor\": \"y\", \"domain\": [0.0, 1.0], \"title\": {\"text\": \"ds\"}}, \"yaxis\": {\"anchor\": \"x\", \"domain\": [0.0, 1.0], \"title\": {\"text\": \"level\"}}},\n",
              "                        {\"responsive\": true}\n",
              "                    ).then(function(){\n",
              "                            \n",
              "var gd = document.getElementById('3615b6fd-3909-4a13-91e9-929a642f204c');\n",
              "var x = new MutationObserver(function (mutations, observer) {{\n",
              "        var display = window.getComputedStyle(gd).display;\n",
              "        if (!display || display === 'none') {{\n",
              "            console.log([gd, 'removed!']);\n",
              "            Plotly.purge(gd);\n",
              "            observer.disconnect();\n",
              "        }}\n",
              "}});\n",
              "\n",
              "// Listen for the removal of the full notebook cells\n",
              "var notebookContainer = gd.closest('#notebook-container');\n",
              "if (notebookContainer) {{\n",
              "    x.observe(notebookContainer, {childList: true});\n",
              "}}\n",
              "\n",
              "// Listen for the clearing of the current output cell\n",
              "var outputEl = gd.closest('.output');\n",
              "if (outputEl) {{\n",
              "    x.observe(outputEl, {childList: true});\n",
              "}}\n",
              "\n",
              "                        })\n",
              "                };\n",
              "                \n",
              "            </script>\n",
              "        </div>\n",
              "</body>\n",
              "</html>"
            ]
          },
          "metadata": {
            "tags": []
          }
        }
      ]
    },
    {
      "cell_type": "code",
      "metadata": {
        "colab": {
          "base_uri": "https://localhost:8080/"
        },
        "id": "FgBcHcdOJoMn",
        "outputId": "2b5290e7-f786-4319-c7f8-bdfa0ed46390"
      },
      "source": [
        "df.info()"
      ],
      "execution_count": null,
      "outputs": [
        {
          "output_type": "stream",
          "text": [
            "<class 'pandas.core.frame.DataFrame'>\n",
            "RangeIndex: 136 entries, 0 to 135\n",
            "Data columns (total 3 columns):\n",
            " #   Column  Non-Null Count  Dtype         \n",
            "---  ------  --------------  -----         \n",
            " 0   ds      136 non-null    datetime64[ns]\n",
            " 1   level   136 non-null    float64       \n",
            " 2   type    136 non-null    object        \n",
            "dtypes: datetime64[ns](1), float64(1), object(1)\n",
            "memory usage: 3.3+ KB\n"
          ],
          "name": "stdout"
        }
      ]
    },
    {
      "cell_type": "markdown",
      "metadata": {
        "id": "Sxc6Zg2TbWph"
      },
      "source": [
        "# End"
      ]
    }
  ]
}